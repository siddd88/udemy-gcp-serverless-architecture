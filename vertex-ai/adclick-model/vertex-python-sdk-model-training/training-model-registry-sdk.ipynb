{
 "cells": [
  {
   "cell_type": "markdown",
   "metadata": {},
   "source": [
    "Build the docker image and upload the model to GCP Artifact Registry "
   ]
  },
  {
   "cell_type": "code",
   "execution_count": 10,
   "metadata": {},
   "outputs": [
    {
     "name": "stdout",
     "output_type": "stream",
     "text": [
      "\u001b[1A\u001b[1B\u001b[0G\u001b[?25l[+] Building 0.0s (0/1)                                                         \n",
      "\u001b[?25h\u001b[1A\u001b[0G\u001b[?25l[+] Building 0.2s (2/2)                                                         \n",
      "\u001b[34m => [internal] load build definition from Dockerfile                       0.0s\n",
      "\u001b[0m\u001b[34m => => transferring dockerfile: 37B                                        0.0s\n",
      "\u001b[0m\u001b[34m => [internal] load .dockerignore                                          0.0s\n",
      "\u001b[0m\u001b[34m => => transferring context: 2B                                            0.0s\n",
      "\u001b[0m\u001b[?25h\u001b[1A\u001b[1A\u001b[1A\u001b[1A\u001b[1A\u001b[0G\u001b[?25l[+] Building 0.3s (2/3)                                                         \n",
      "\u001b[34m => [internal] load build definition from Dockerfile                       0.0s\n",
      "\u001b[0m\u001b[34m => => transferring dockerfile: 37B                                        0.0s\n",
      "\u001b[0m\u001b[34m => [internal] load .dockerignore                                          0.0s\n",
      "\u001b[0m\u001b[34m => => transferring context: 2B                                            0.0s\n",
      "\u001b[0m => [internal] load metadata for gcr.io/deeplearning-platform-release/skl  0.1s\n",
      "\u001b[?25h\u001b[1A\u001b[1A\u001b[1A\u001b[1A\u001b[1A\u001b[1A\u001b[0G\u001b[?25l[+] Building 0.5s (2/3)                                                         \n",
      "\u001b[34m => [internal] load build definition from Dockerfile                       0.0s\n",
      "\u001b[0m\u001b[34m => => transferring dockerfile: 37B                                        0.0s\n",
      "\u001b[0m\u001b[34m => [internal] load .dockerignore                                          0.0s\n",
      "\u001b[0m\u001b[34m => => transferring context: 2B                                            0.0s\n",
      "\u001b[0m => [internal] load metadata for gcr.io/deeplearning-platform-release/skl  0.3s\n",
      "\u001b[?25h\u001b[1A\u001b[1A\u001b[1A\u001b[1A\u001b[1A\u001b[1A\u001b[0G\u001b[?25l[+] Building 0.6s (2/3)                                                         \n",
      "\u001b[34m => [internal] load build definition from Dockerfile                       0.0s\n",
      "\u001b[0m\u001b[34m => => transferring dockerfile: 37B                                        0.0s\n",
      "\u001b[0m\u001b[34m => [internal] load .dockerignore                                          0.0s\n",
      "\u001b[0m\u001b[34m => => transferring context: 2B                                            0.0s\n",
      "\u001b[0m => [internal] load metadata for gcr.io/deeplearning-platform-release/skl  0.5s\n",
      "\u001b[?25h\u001b[1A\u001b[1A\u001b[1A\u001b[1A\u001b[1A\u001b[1A\u001b[0G\u001b[?25l[+] Building 0.8s (2/3)                                                         \n",
      "\u001b[34m => [internal] load build definition from Dockerfile                       0.0s\n",
      "\u001b[0m\u001b[34m => => transferring dockerfile: 37B                                        0.0s\n",
      "\u001b[0m\u001b[34m => [internal] load .dockerignore                                          0.0s\n",
      "\u001b[0m\u001b[34m => => transferring context: 2B                                            0.0s\n",
      "\u001b[0m => [internal] load metadata for gcr.io/deeplearning-platform-release/skl  0.6s\n",
      "\u001b[?25h\u001b[1A\u001b[1A\u001b[1A\u001b[1A\u001b[1A\u001b[1A\u001b[0G\u001b[?25l[+] Building 0.9s (2/3)                                                         \n",
      "\u001b[34m => [internal] load build definition from Dockerfile                       0.0s\n",
      "\u001b[0m\u001b[34m => => transferring dockerfile: 37B                                        0.0s\n",
      "\u001b[0m\u001b[34m => [internal] load .dockerignore                                          0.0s\n",
      "\u001b[0m\u001b[34m => => transferring context: 2B                                            0.0s\n",
      "\u001b[0m => [internal] load metadata for gcr.io/deeplearning-platform-release/skl  0.8s\n",
      "\u001b[?25h\u001b[1A\u001b[1A\u001b[1A\u001b[1A\u001b[1A\u001b[1A\u001b[0G\u001b[?25l[+] Building 1.0s (8/8) FINISHED                                                \n",
      "\u001b[34m => [internal] load build definition from Dockerfile                       0.0s\n",
      "\u001b[0m\u001b[34m => => transferring dockerfile: 37B                                        0.0s\n",
      "\u001b[0m\u001b[34m => [internal] load .dockerignore                                          0.0s\n",
      "\u001b[0m\u001b[34m => => transferring context: 2B                                            0.0s\n",
      "\u001b[0m\u001b[34m => [internal] load metadata for gcr.io/deeplearning-platform-release/skl  0.8s\n",
      "\u001b[0m\u001b[34m => [internal] load build context                                          0.0s\n",
      "\u001b[0m\u001b[34m => => transferring context: 39B                                           0.0s\n",
      "\u001b[0m\u001b[34m => [1/3] FROM gcr.io/deeplearning-platform-release/sklearn-cpu.0-23@sha2  0.0s\n",
      "\u001b[0m\u001b[34m => CACHED [2/3] WORKDIR /app                                              0.0s\n",
      "\u001b[0m\u001b[34m => CACHED [3/3] COPY model_training.py /app/model_training.py             0.0s\n",
      "\u001b[0m\u001b[34m => exporting to image                                                     0.0s\n",
      "\u001b[0m\u001b[34m => => exporting layers                                                    0.0s\n",
      "\u001b[0m\u001b[34m => => writing image sha256:713577d5e67676d659b0947c7f9c2411bf7c7bb22b9b7  0.0s\n",
      "\u001b[0m\u001b[34m => => naming to docker.io/library/ad-model                                0.0s\n",
      "\u001b[0m\u001b[?25h\n",
      "Use 'docker scan' to run Snyk tests against images to find vulnerabilities and learn how to fix them\n",
      "Using default tag: latest\n",
      "The push refers to repository [gcr.io/gcp-serverless-project/ad-model]\n",
      "\n",
      "\u001b[1B675e6970: Preparing \n",
      "\u001b[1Be5bc0b1f: Preparing \n",
      "\u001b[1Bad762959: Preparing \n",
      "\u001b[1B95ab9e77: Preparing \n",
      "\u001b[1B696800e5: Preparing \n",
      "\u001b[1B9d8b7cee: Preparing \n",
      "\u001b[1B596f270a: Preparing \n",
      "\u001b[1B67e2fb81: Preparing \n",
      "\u001b[1B2008b716: Preparing \n",
      "\u001b[1B4353fb2c: Preparing \n",
      "\u001b[1B2c51d6a4: Preparing \n",
      "\u001b[1Ba46c0b32: Preparing \n",
      "\u001b[1B6cea57d8: Preparing \n",
      "\u001b[1Bc8696632: Preparing \n",
      "\u001b[1Bf9abc101: Preparing \n",
      "\u001b[1Bef1e7f2d: Preparing \n",
      "\u001b[1B527480cb: Preparing \n",
      "\u001b[1Bf5f0e41b: Preparing \n",
      "\u001b[1Bbf18a086: Preparing \n",
      "\u001b[1B9d623e1d: Preparing \n",
      "\u001b[3Bbf18a086: Preparing \n",
      "\u001b[1B8375c0e1: Preparing \n",
      "\u001b[1Bfbacbc2e: Preparing \n",
      "\u001b[24B75e6970: Pushed lready exists \u001b[24A\u001b[2K\u001b[21A\u001b[2K\u001b[23A\u001b[2K\u001b[19A\u001b[2K\u001b[16A\u001b[2K\u001b[15A\u001b[2K\u001b[10A\u001b[2K\u001b[7A\u001b[2K\u001b[6A\u001b[2K\u001b[3A\u001b[2K\u001b[2A\u001b[2K\u001b[24A\u001b[2Klatest: digest: sha256:36e854f13a7bc32aebf3a6f25ff8785f35f34b2a18dd2d9bc9df30bd4ebb99d9 size: 5542\n"
     ]
    }
   ],
   "source": [
    "# Step-1 : Build Docker Image \n",
    "! docker build -t ad-model-new .\n",
    "\n",
    "# Step-2 : Tag Docker Image \n",
    "! docker tag ad-model-new gcr.io/{your-project-id}/ad-model-new\n",
    "\n",
    "# Step-3 : Push docker image to Artifact Registry \n",
    "! docker push gcr.io/{your-project-id}/ad-model-new\n"
   ]
  },
  {
   "cell_type": "markdown",
   "metadata": {},
   "source": [
    "One time Setup - Create a New Service Account in GCP before executing the below gcloud commands    "
   ]
  },
  {
   "cell_type": "code",
   "execution_count": null,
   "metadata": {},
   "outputs": [],
   "source": [
    "\n",
    "!gcloud projects add-iam-policy-binding {your-project-id} \\\n",
    "    --member=serviceAccount:vertex-ai-sa@{your-project-id}.iam.gserviceaccount.com \\\n",
    "    --role=roles/aiplatform.customCodeServiceAgent\n",
    "\n",
    "!gcloud projects add-iam-policy-binding {your-project-id} \\\n",
    "    --member=serviceAccount:vertex-ai-sa@{your-project-id}.iam.gserviceaccount.com \\\n",
    "    --role=roles/aiplatform.admin\n",
    "\n",
    "!gcloud projects add-iam-policy-binding {your-project-id} \\\n",
    "    --member=serviceAccount:vertex-ai-sa@{your-project-id}.iam.gserviceaccount.com \\\n",
    "    --role=roles/storage.objectAdmin"
   ]
  },
  {
   "cell_type": "code",
   "execution_count": 12,
   "metadata": {},
   "outputs": [],
   "source": [
    "from google.cloud import aiplatform\n",
    "aiplatform.init(project='{your-project-id}', location='us-east1')"
   ]
  },
  {
   "cell_type": "code",
   "execution_count": 2,
   "metadata": {},
   "outputs": [],
   "source": [
    "# import os\n",
    "# os.environ[\"GOOGLE_APPLICATION_CREDENTIALS\"] = \"{path to json credentials}\""
   ]
  },
  {
   "cell_type": "markdown",
   "metadata": {},
   "source": [
    "Create a training job from the image from Container registry in Vertex AI "
   ]
  },
  {
   "cell_type": "code",
   "execution_count": 14,
   "metadata": {},
   "outputs": [
    {
     "name": "stdout",
     "output_type": "stream",
     "text": [
      "Training Output directory:\n",
      "gs://vertex-ai-udemy/aiplatform-custom-training-2022-12-24-00:52:07.375 \n",
      "View Training:\n",
      "https://console.cloud.google.com/ai/platform/locations/us-central1/training/2701920220326395904?project=470181514403\n",
      "View backing custom job:\n",
      "https://console.cloud.google.com/ai/platform/locations/us-central1/training/8995159739855798272?project=470181514403\n",
      "CustomContainerTrainingJob projects/470181514403/locations/us-central1/trainingPipelines/2701920220326395904 current state:\n",
      "PipelineState.PIPELINE_STATE_RUNNING\n",
      "CustomContainerTrainingJob projects/470181514403/locations/us-central1/trainingPipelines/2701920220326395904 current state:\n",
      "PipelineState.PIPELINE_STATE_RUNNING\n",
      "CustomContainerTrainingJob projects/470181514403/locations/us-central1/trainingPipelines/2701920220326395904 current state:\n",
      "PipelineState.PIPELINE_STATE_RUNNING\n",
      "CustomContainerTrainingJob projects/470181514403/locations/us-central1/trainingPipelines/2701920220326395904 current state:\n",
      "PipelineState.PIPELINE_STATE_RUNNING\n",
      "CustomContainerTrainingJob run completed. Resource name: projects/470181514403/locations/us-central1/trainingPipelines/2701920220326395904\n",
      "Training did not produce a Managed Model returning None. Training Pipeline projects/470181514403/locations/us-central1/trainingPipelines/2701920220326395904 is not configured to upload a Model. Create the Training Pipeline with model_serving_container_image_uri and model_display_name passed in. Ensure that your training script saves to model to os.environ['AIP_MODEL_DIR'].\n"
     ]
    }
   ],
   "source": [
    "display_name = 'adclick-model-training'\n",
    "\n",
    "container_uri = 'gcr.io/{your-project-id}/ad-model'\n",
    "\n",
    "bucket = 'vertex-ai-udemy'\n",
    "\n",
    "container_deployment = aiplatform.CustomContainerTrainingJob(display_name=display_name,\n",
    "                                               container_uri=container_uri,\n",
    "                                               staging_bucket=bucket\n",
    "                                                    )\n",
    "\n",
    "model = container_deployment.run(replica_count=1,machine_type = \"n1-standard-4\",\n",
    "                                accelerator_type= \"ACCELERATOR_TYPE_UNSPECIFIED\",\n",
    "                                accelerator_count=0)\n"
   ]
  },
  {
   "cell_type": "markdown",
   "metadata": {},
   "source": [
    "Upload the model artifact to Vertex AI Model Registry "
   ]
  },
  {
   "cell_type": "code",
   "execution_count": 19,
   "metadata": {},
   "outputs": [
    {
     "name": "stdout",
     "output_type": "stream",
     "text": [
      "Creating Model\n",
      "Create Model backing LRO: projects/470181514403/locations/us-central1/models/5680202413416382464/operations/495835007747620864\n",
      "Model created. Resource name: projects/470181514403/locations/us-central1/models/5680202413416382464@1\n",
      "To use this Model in another session:\n",
      "model = aiplatform.Model('projects/470181514403/locations/us-central1/models/5680202413416382464@1')\n"
     ]
    }
   ],
   "source": [
    "artifact_uri = \"gs://your-bucket-name/adclick-model-artifact\"\n",
    "\n",
    "display_name = \"ad-click-model\"\n",
    "ad_click_model = aiplatform.Model.upload(display_name=display_name,\n",
    "                                  artifact_uri=artifact_uri,\n",
    "                                  serving_container_image_uri=container_uri,is_default_version=True,\n",
    "                                                version_aliases=[\"first stable version\"],\n",
    "                                                version_description=\"first stable version \")"
   ]
  }
 ],
 "metadata": {
  "kernelspec": {
   "display_name": "Python 3.8.7rc1 64-bit",
   "language": "python",
   "name": "python3"
  },
  "language_info": {
   "codemirror_mode": {
    "name": "ipython",
    "version": 3
   },
   "file_extension": ".py",
   "mimetype": "text/x-python",
   "name": "python",
   "nbconvert_exporter": "python",
   "pygments_lexer": "ipython3",
   "version": "3.8.7"
  },
  "orig_nbformat": 4,
  "vscode": {
   "interpreter": {
    "hash": "752579dbebe7f4dfe7c1aa72eac13e23fc88be2cc1ea7ab14e1f8d69b2d97d12"
   }
  }
 },
 "nbformat": 4,
 "nbformat_minor": 2
}
