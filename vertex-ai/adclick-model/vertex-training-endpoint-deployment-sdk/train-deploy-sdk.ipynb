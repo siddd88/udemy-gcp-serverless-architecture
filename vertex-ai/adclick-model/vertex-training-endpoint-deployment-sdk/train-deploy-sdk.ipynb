{
 "cells": [
  {
   "cell_type": "code",
   "execution_count": null,
   "metadata": {},
   "outputs": [],
   "source": [
    "%%writefile requirements.txt\n",
    "fastapi\n",
    "uvicorn==0.17.6\n",
    "joblib~=1.0\n",
    "numpy~=1.20\n",
    "scikit-learn~=0.24\n",
    "pandas\n",
    "google-cloud-storage>=1.26.0,<2.0.0dev\n",
    "google-cloud-aiplatform[prediction]>=1.16.0\n",
    "\n",
    "\n",
    "!pip install -U --user -r requirements.txt"
   ]
  },
  {
   "cell_type": "code",
   "execution_count": null,
   "metadata": {},
   "outputs": [],
   "source": [
    "USER_SRC_DIR = \"src_dir\"\n",
    "!mkdir $USER_SRC_DIR\n",
    "!mkdir model_artifacts\n",
    "\n",
    "# copy the requirements to the source dir\n",
    "!cp requirements.txt $USER_SRC_DIR/requirements.txt"
   ]
  },
  {
   "cell_type": "code",
   "execution_count": null,
   "metadata": {},
   "outputs": [],
   "source": [
    "import pandas as pd\n",
    "from sklearn.linear_model import LogisticRegression\n",
    "from sklearn.model_selection import train_test_split\n",
    "from google.cloud import storage\n",
    "from joblib import dump\n",
    "from sklearn.pipeline import make_pipeline\n",
    "\n",
    "storage_client = storage.Client()\n",
    "bucket = storage_client.bucket(\"vertexai-udemy\")\n",
    "\n",
    "df = pd.read_csv('gs://vertexai-udemy/adclick-model-input/advertising.csv')\n",
    "max_iter= 1000\n",
    "solver= 'lbfgs'\n",
    "\n",
    "X = df[['Daily Time Spent on Site', 'Age', 'Area Income','Daily Internet Usage', 'Male']]\n",
    "y = df['Clicked on Ad']\n",
    "X_train, X_test, y_train, y_test = train_test_split(X, y, test_size=0.33, random_state=42)\n",
    "\n",
    "logmodel = LogisticRegression(solver=solver,max_iter=max_iter)\n",
    "\n",
    "pipeline = make_pipeline(logmodel)\n",
    "\n",
    "pipeline.fit(X_train, y_train)\n",
    "\n",
    "dump(pipeline, 'model_artifacts/model.joblib')\n",
    "\n",
    "model_artifact = bucket.blob('adclick-model-artifact/model.joblib')\n",
    "\n",
    "model_artifact.upload_from_filename('model_artifacts/model.joblib')"
   ]
  },
  {
   "cell_type": "code",
   "execution_count": 1,
   "metadata": {},
   "outputs": [],
   "source": [
    "# pipeline.predict([['63.95','23','52182','40',1]])"
   ]
  },
  {
   "cell_type": "code",
   "execution_count": 2,
   "metadata": {},
   "outputs": [],
   "source": [
    "# !gsutil cp model_artifacts/model.joblib {BUCKET_NAME}/{MODEL_ARTIFACT_DIR}/"
   ]
  },
  {
   "cell_type": "code",
   "execution_count": null,
   "metadata": {},
   "outputs": [],
   "source": [
    "%%writefile src_dir/predictor.py\n",
    "import numpy as np\n",
    "from google.cloud.aiplatform.prediction.sklearn.predictor import SklearnPredictor\n",
    "\n",
    "class AdclickPredictor(SklearnPredictor):\n",
    "\n",
    "    def __init__(self):\n",
    "        return\n",
    "\n",
    "    def load(self, artifacts_uri: str) -> None:\n",
    "        super().load(artifacts_uri)\n",
    "\n",
    "    def postprocess(self, prediction_results: np.ndarray) -> dict:\n",
    "        return {\"predictions\": [f\"{value}\" for value in np.round(prediction_results)]}"
   ]
  },
  {
   "cell_type": "code",
   "execution_count": 3,
   "metadata": {},
   "outputs": [],
   "source": [
    "REGION = \"us-east1\"\n",
    "MODEL_ARTIFACT_DIR = \"adclick-model-artifact\"\n",
    "REPOSITORY = \"vertexai-repo\"\n",
    "IMAGE = \"sklearn-image\"\n",
    "MODEL_DISPLAY_NAME = \"adclick-model\"\n",
    "\n",
    "PROJECT_ID = \"{your-project-id}\"\n",
    "BUCKET_NAME = \"gs://vertexai-udemy\""
   ]
  },
  {
   "cell_type": "code",
   "execution_count": null,
   "metadata": {},
   "outputs": [],
   "source": [
    "from google.cloud import aiplatform\n",
    "\n",
    "aiplatform.init(project=PROJECT_ID, location=REGION)\n",
    "\n",
    "import os\n",
    "\n",
    "from google.cloud.aiplatform.prediction import LocalModel\n",
    "\n",
    "from src_dir.predictor import AdclickPredictor\n",
    "\n",
    "local_model = LocalModel.build_cpr_model(\n",
    "    \"src_dir\",\n",
    "    f\"{REGION}-docker.pkg.dev/{PROJECT_ID}/{REPOSITORY}/adclick-image\",\n",
    "    predictor=AdclickPredictor,\n",
    "    requirements_path=os.path.join(\"src_dir\", \"requirements.txt\"),\n",
    ")"
   ]
  },
  {
   "cell_type": "code",
   "execution_count": null,
   "metadata": {},
   "outputs": [],
   "source": [
    "import json\n",
    "\n",
    "sample = {\"instances\": [\n",
    "  ['63.95','23','52182','40',1]\n",
    "]}\n",
    "\n",
    "with open('instances.json', 'w') as fp:\n",
    "    json.dump(sample, fp)\n"
   ]
  },
  {
   "cell_type": "code",
   "execution_count": null,
   "metadata": {},
   "outputs": [],
   "source": [
    "!gcloud auth configure-docker {REGION}-docker.pkg.dev --quiet"
   ]
  },
  {
   "cell_type": "code",
   "execution_count": null,
   "metadata": {},
   "outputs": [],
   "source": [
    "with local_model.deploy_to_local_endpoint(\n",
    "    artifact_uri = 'model_artifacts/',\n",
    ") as local_endpoint:\n",
    "    predict_response = local_endpoint.predict(\n",
    "        request_file='instances.json',\n",
    "        headers={\"Content-Type\": \"application/json\"},\n",
    "    )\n",
    "    health_check_response = local_endpoint.run_health_check()"
   ]
  },
  {
   "cell_type": "code",
   "execution_count": null,
   "metadata": {},
   "outputs": [],
   "source": [
    "local_model.push_image()"
   ]
  },
  {
   "cell_type": "code",
   "execution_count": null,
   "metadata": {},
   "outputs": [],
   "source": [
    "model = aiplatform.Model.upload(local_model = local_model,\n",
    "                                display_name=MODEL_DISPLAY_NAME,\n",
    "                                artifact_uri=f\"{BUCKET_NAME}/{MODEL_ARTIFACT_DIR}\",)\n"
   ]
  },
  {
   "cell_type": "code",
   "execution_count": null,
   "metadata": {},
   "outputs": [],
   "source": [
    "endpoint = model.deploy(machine_type=\"n1-standard-2\",)"
   ]
  },
  {
   "cell_type": "code",
   "execution_count": null,
   "metadata": {},
   "outputs": [],
   "source": [
    "endpoint.predict(instances=[['63.95','23','52182','40',1]])"
   ]
  }
 ],
 "metadata": {
  "kernelspec": {
   "display_name": "Python 3.8.7rc1 64-bit",
   "language": "python",
   "name": "python3"
  },
  "language_info": {
   "codemirror_mode": {
    "name": "ipython",
    "version": 3
   },
   "file_extension": ".py",
   "mimetype": "text/x-python",
   "name": "python",
   "nbconvert_exporter": "python",
   "pygments_lexer": "ipython3",
   "version": "3.8.7"
  },
  "orig_nbformat": 4,
  "vscode": {
   "interpreter": {
    "hash": "752579dbebe7f4dfe7c1aa72eac13e23fc88be2cc1ea7ab14e1f8d69b2d97d12"
   }
  }
 },
 "nbformat": 4,
 "nbformat_minor": 2
}
